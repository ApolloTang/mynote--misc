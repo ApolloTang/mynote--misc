{
 "cells": [
  {
   "cell_type": "markdown",
   "id": "5eaeb213-b4a3-4bde-9658-37e38e0ab16f",
   "metadata": {},
   "source": [
    "## o \n",
    "Format an integer as an octal number"
   ]
  },
  {
   "cell_type": "code",
   "execution_count": 4,
   "id": "94779f04-52e5-488b-aa7d-d6ef6fe4dba3",
   "metadata": {},
   "outputs": [
    {
     "name": "stdout",
     "output_type": "stream",
     "text": [
      "1 2 3 4 5 6 7 10 11 12 \n"
     ]
    }
   ],
   "source": [
    "gprintf \"%o \" 1 2 3 4 5 6 7 8 9 10"
   ]
  },
  {
   "cell_type": "markdown",
   "id": "884c02c7-66b7-44c9-9f7d-b365c403ddb7",
   "metadata": {},
   "source": [
    "## x\n",
    "Format an integer as a hexadecimal number using lowercase"
   ]
  },
  {
   "cell_type": "code",
   "execution_count": 6,
   "id": "bbd38637-c5c5-4999-9635-4e61b5d4124d",
   "metadata": {},
   "outputs": [
    {
     "name": "stdout",
     "output_type": "stream",
     "text": [
      "8 9 a b c d e f 10 \n"
     ]
    }
   ],
   "source": [
    "gprintf \"%x \" 8 9 10 11 12 13 14 15 16"
   ]
  },
  {
   "cell_type": "markdown",
   "id": "b0904450-ccae-4225-87cd-2838c9c39eaa",
   "metadata": {},
   "source": [
    "## X\n",
    "Format an integer as a hexadecimal number using uppercase"
   ]
  },
  {
   "cell_type": "code",
   "execution_count": 7,
   "id": "e0053763-e99b-4e78-9c5d-08514ccc7ca8",
   "metadata": {},
   "outputs": [
    {
     "name": "stdout",
     "output_type": "stream",
     "text": [
      "8 9 A B C D E F 10 \n"
     ]
    }
   ],
   "source": [
    "gprintf \"%X \" 8 9 10 11 12 13 14 15 16"
   ]
  },
  {
   "cell_type": "markdown",
   "id": "7ce842cd-d31e-4b7e-ac4e-01dac331d467",
   "metadata": {},
   "source": [
    "## d\n",
    "Format a number as a signed decimal integer."
   ]
  },
  {
   "cell_type": "code",
   "execution_count": 36,
   "id": "d59c11c9-ce9e-40ed-a5c9-7b02b0229dfa",
   "metadata": {},
   "outputs": [
    {
     "name": "stdout",
     "output_type": "stream",
     "text": [
      "0 8 9 10 11 12 13 14 15 16 \n",
      "0 -8 -9 -10 -11 -12 -13 -14 -15 -16 \n"
     ]
    }
   ],
   "source": [
    "gprintf \"%d \" 0x0 +0x8 +0x9 +0xA 0xb 0xc 0xD 0xE 0xf 0x10  \n",
    "gprintf \"%d \" -0x0 -0x8 -0x9 -0xA -0xb -0xc -0xD -0xE -0xf -0x10"
   ]
  },
  {
   "cell_type": "code",
   "execution_count": 35,
   "id": "7f98c9a4-4540-43d3-98ac-6170a2d48cfc",
   "metadata": {},
   "outputs": [
    {
     "name": "stdout",
     "output_type": "stream",
     "text": [
      "0 6 7 8 9 \n",
      "0 -6 -7 -8 -9 \n"
     ]
    }
   ],
   "source": [
    "gprintf \"%d \" 00 +06 +07 010 011\n",
    "gprintf \"%d \" -00 -06 -07 -010 -011"
   ]
  },
  {
   "cell_type": "markdown",
   "id": "0c4d2ab5-f388-4fcf-853a-ff081759fb1d",
   "metadata": {},
   "source": [
    "## %\n",
    "Print a literal % symbol (i.e., specify %%)."
   ]
  },
  {
   "cell_type": "code",
   "execution_count": 38,
   "id": "ed21cd03-f31d-43fd-ae27-7b170d994dba",
   "metadata": {},
   "outputs": [
    {
     "name": "stdout",
     "output_type": "stream",
     "text": [
      "this is a sharp --> % \n"
     ]
    }
   ],
   "source": [
    "gprintf \"this is a sharp --> %% \""
   ]
  },
  {
   "cell_type": "markdown",
   "id": "2a6682ff-527d-4f03-9300-9b24565abecd",
   "metadata": {},
   "source": [
    "## f\n",
    "\n",
    "Print a number with six digits after decimal points. \n",
    "Keep in mind that bash not handle floating point type."
   ]
  },
  {
   "cell_type": "code",
   "execution_count": 9,
   "id": "be0cf399-5416-4f99-97f9-3380c6afa6d8",
   "metadata": {},
   "outputs": [
    {
     "name": "stdout",
     "output_type": "stream",
     "text": [
      "1.000000 \n"
     ]
    }
   ],
   "source": [
    "gprintf \"%f \" 1"
   ]
  },
  {
   "cell_type": "code",
   "execution_count": null,
   "id": "e51292ed-fa08-414a-94bd-f3823796e4e4",
   "metadata": {},
   "outputs": [],
   "source": []
  }
 ],
 "metadata": {
  "kernelspec": {
   "display_name": "Bash",
   "language": "bash",
   "name": "bash"
  },
  "language_info": {
   "codemirror_mode": "shell",
   "file_extension": ".sh",
   "mimetype": "text/x-sh",
   "name": "bash"
  }
 },
 "nbformat": 4,
 "nbformat_minor": 5
}
