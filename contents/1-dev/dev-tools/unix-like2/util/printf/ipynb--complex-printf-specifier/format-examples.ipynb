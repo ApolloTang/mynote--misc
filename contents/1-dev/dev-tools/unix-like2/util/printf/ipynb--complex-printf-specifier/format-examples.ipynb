{
 "cells": [
  {
   "cell_type": "code",
   "execution_count": null,
   "id": "9f39925b",
   "metadata": {
    "vscode": {
     "languageId": "shellscript"
    }
   },
   "outputs": [],
   "source": []
  },
  {
   "cell_type": "markdown",
   "id": "992c45dc",
   "metadata": {},
   "source": [
    "# Example complex printf specifier:"
   ]
  },
  {
   "cell_type": "markdown",
   "id": "2ab1e061",
   "metadata": {},
   "source": [
    "## Example of alternate format for output `#x`, `#o`:"
   ]
  },
  {
   "cell_type": "code",
   "execution_count": 21,
   "id": "b5e1efd4",
   "metadata": {
    "vscode": {
     "languageId": "shellscript"
    }
   },
   "outputs": [
    {
     "name": "stdout",
     "output_type": "stream",
     "text": [
      "a  <--- print decimal 10 in hex\n",
      "0xa <--- print decimal 10 in hex (alternate format)\n",
      "12  <--- print decimal 10 in octal\n",
      "012 <--- print decimal 10 in octal (alternate format)\n"
     ]
    }
   ],
   "source": [
    "printf \"%x  <--- print decimal 10 in hex\" 10\n",
    "printf \"%#x <--- print decimal 10 in hex (alternate format)\" 10\n",
    "printf \"%o  <--- print decimal 10 in octal\" 10\n",
    "printf \"%#o <--- print decimal 10 in octal (alternate format)\" 10"
   ]
  },
  {
   "cell_type": "markdown",
   "id": "d5c631fb-b92d-49af-988f-19415ab8e322",
   "metadata": {},
   "source": [
    "## More examples:"
   ]
  },
  {
   "cell_type": "markdown",
   "id": "b847859f-a5f4-4596-86e9-2f96cb430641",
   "metadata": {},
   "source": [
    "### `%05d` \n",
    "- `%__d`: display number supply to the argument in base 10\n",
    "- `%_5_`: limit minimum field width to 5\n",
    "- `%0__`: zero pad left of display output with zero"
   ]
  },
  {
   "cell_type": "code",
   "execution_count": 28,
   "id": "ec299b6b-27a6-4658-99eb-45b2694523d0",
   "metadata": {},
   "outputs": [
    {
     "name": "stdout",
     "output_type": "stream",
     "text": [
      "|12345| <-- field width of 5 characters\n",
      "|00123|\n"
     ]
    }
   ],
   "source": [
    "echo \"|12345| <-- field width of 5 characters\"\n",
    "gprintf \"|%05d|\" 123"
   ]
  },
  {
   "cell_type": "markdown",
   "id": "6e9d9684-609a-46d4-b0e9-9cda73d61341",
   "metadata": {},
   "source": [
    "If the output is longer than the specified minimum field width, the number in the argument will be displayed as it is:"
   ]
  },
  {
   "cell_type": "code",
   "execution_count": 29,
   "id": "23b844f3-e684-4da5-821f-3e8bad5e7dbe",
   "metadata": {},
   "outputs": [
    {
     "name": "stdout",
     "output_type": "stream",
     "text": [
      "|12345| <-- field width of 5 characters\n",
      "|123456789|\n"
     ]
    }
   ],
   "source": [
    "echo \"|12345| <-- field width of 5 characters\"\n",
    "gprintf \"|%05d|\" 123456789 # input exceed minimum field width of 5"
   ]
  },
  {
   "cell_type": "markdown",
   "id": "accf8485-8372-42b6-9330-c3e481418b68",
   "metadata": {},
   "source": [
    "## Qurks\n",
    "\n",
    "### Zero padding and precision specifier combination: "
   ]
  },
  {
   "cell_type": "markdown",
   "id": "a6dea56f-b11b-45d9-a6c8-817939d3ffe1",
   "metadata": {},
   "source": [
    "If precision is given when the displaying data type specifier is not `f` (i.e., `d, i,o,u,x, and X`), the zero padding specifier is ignored.\n",
    "Let's show this with the correct behaviour (displaying data type specifier is `f`):"
   ]
  },
  {
   "cell_type": "code",
   "execution_count": 23,
   "id": "2be20c91-70a4-4eb2-a3b0-41ba331b2e20",
   "metadata": {},
   "outputs": [
    {
     "name": "stdout",
     "output_type": "stream",
     "text": [
      "|12345678| <-- field width of 8 characters\n",
      "|000017.0|\n"
     ]
    }
   ],
   "source": [
    "echo \"|12345678| <-- field width of 8 characters\"\n",
    "gprintf \"|%08.1f|\" 17"
   ]
  },
  {
   "cell_type": "markdown",
   "id": "640f0aa8-0571-43ce-98a6-6b58bae94181",
   "metadata": {},
   "source": [
    "The explanation for the above example:\n",
    "\n",
    "`%08.1f` \n",
    "- `%____f`: display number supply to argument in base 10 with the style [-]ddd.ddd\n",
    "- `%_8___`: limit minimum field width to 8\n",
    "- `%__.1_`: precision after decimal is 1\n",
    "- `%0____`: zero pad left of display output with zero"
   ]
  },
  {
   "cell_type": "markdown",
   "id": "361f85c4-a455-45fa-87a0-0b5e5638aebd",
   "metadata": {},
   "source": [
    "Let's now change the `f` flag to `x`:"
   ]
  },
  {
   "cell_type": "code",
   "execution_count": 24,
   "id": "dfe191ee-9eb6-41fe-a1cd-1a984976d076",
   "metadata": {},
   "outputs": [
    {
     "name": "stdout",
     "output_type": "stream",
     "text": [
      "|12345678| <-- field width of 8 characters\n",
      "|      11|\n"
     ]
    }
   ],
   "source": [
    "echo \"|12345678| <-- field width of 8 characters\"\n",
    "gprintf \"|%08.1x|\" 17"
   ]
  },
  {
   "cell_type": "markdown",
   "id": "0c6735a0-4c49-4a19-b91a-7dd4fbdab946",
   "metadata": {},
   "source": [
    "As you can see above the zero pad left is ignored."
   ]
  }
 ],
 "metadata": {
  "kernelspec": {
   "display_name": "Bash",
   "language": "bash",
   "name": "bash"
  },
  "language_info": {
   "codemirror_mode": "shell",
   "file_extension": ".sh",
   "mimetype": "text/x-sh",
   "name": "bash"
  }
 },
 "nbformat": 4,
 "nbformat_minor": 5
}
