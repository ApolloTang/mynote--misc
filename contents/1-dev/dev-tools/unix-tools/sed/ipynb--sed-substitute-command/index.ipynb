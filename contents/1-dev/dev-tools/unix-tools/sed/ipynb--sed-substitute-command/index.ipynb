{
 "cells": [
  {
   "cell_type": "markdown",
   "id": "4abaf549-de00-4591-8b13-8ac01916513f",
   "metadata": {},
   "source": [
    "The substitute command takes the following format:\n",
    "```\n",
    "s/regular expression/replacement/flags\n",
    "```"
   ]
  },
  {
   "cell_type": "markdown",
   "id": "a42e2857-e0c7-48a4-93c1-174597b86ed1",
   "metadata": {},
   "source": [
    "## Sed oneliner example:"
   ]
  },
  {
   "cell_type": "code",
   "execution_count": 28,
   "id": "8989470c-b4d4-4427-a028-f0bfd75f73aa",
   "metadata": {},
   "outputs": [
    {
     "name": "stdout",
     "output_type": "stream",
     "text": [
      "ONE two three, ONE two three\n"
     ]
    }
   ],
   "source": [
    "%%bash\n",
    "echo 'one two three, one two three' | gsed s/one/ONE/g"
   ]
  },
  {
   "cell_type": "markdown",
   "id": "166fae42-6511-4a78-b30d-833311043cbe",
   "metadata": {},
   "source": [
    "## Good practice\n",
    "\n",
    "To avoid any unintended parameter expansion, it is a good habit to use quotes around the the replacment command `s/regular expression/replacement/flags`: "
   ]
  },
  {
   "cell_type": "code",
   "execution_count": 29,
   "id": "944a0690-8241-448c-9fca-a65b804d8ed4",
   "metadata": {},
   "outputs": [
    {
     "name": "stdout",
     "output_type": "stream",
     "text": [
      "ONE two three, ONE two three\n"
     ]
    }
   ],
   "source": [
    "%%bash\n",
    "echo 'one two three, one two three' | gsed 's/one/ONE/g'"
   ]
  },
  {
   "cell_type": "markdown",
   "id": "b7ba1095-f123-431d-a31a-d43d39b40ab7",
   "metadata": {},
   "source": [
    "## Delimiter \n",
    "\n",
    "Note the three delimiters `/` separate the command `s`, regular expression (RE), the replacement string, and the flags. Instead of `/`, you can use a different character as delimiters to make it easier to read:"
   ]
  },
  {
   "cell_type": "code",
   "execution_count": 30,
   "id": "a081010c-218b-4b50-bd34-85d22ad2e1bf",
   "metadata": {},
   "outputs": [
    {
     "name": "stdout",
     "output_type": "stream",
     "text": [
      "/xxx/yyy/ccc/ddd/\n"
     ]
    }
   ],
   "source": [
    "%%bash\n",
    "echo '/aaa/bbb/ccc/ddd/' | gsed 's/\\/aaa\\/bbb/\\/xxx\\/yyy/'"
   ]
  },
  {
   "cell_type": "code",
   "execution_count": 31,
   "id": "4f49c9e3-a0b8-4319-9937-08dfe305863e",
   "metadata": {},
   "outputs": [
    {
     "name": "stdout",
     "output_type": "stream",
     "text": [
      "/xxx/yyy/ccc/ddd/\n"
     ]
    }
   ],
   "source": [
    "%%bash\n",
    "echo '/aaa/bbb/ccc/ddd/' | gsed 's:\\/aaa\\/bbb:\\/xxx\\/yyy:'"
   ]
  },
  {
   "cell_type": "markdown",
   "id": "529fa4f8-cb52-4331-92fa-822411c3898f",
   "metadata": {},
   "source": [
    "You can use any character as the delimiter if it is not part of the search pattern."
   ]
  },
  {
   "cell_type": "markdown",
   "id": "ecb69123-fe3d-400b-9324-3ea9a867b2d0",
   "metadata": {},
   "source": [
    "## Representing the search pattern in the replament. \n",
    "An ampersand `&` appearing in the replacement part of the command is replaced by the string matching the RE."
   ]
  },
  {
   "cell_type": "code",
   "execution_count": 32,
   "id": "226c39c2-720d-4664-87bf-f7e2a4e8e9e4",
   "metadata": {},
   "outputs": [
    {
     "name": "stdout",
     "output_type": "stream",
     "text": [
      "234324(abc)09870(lkd)324324\n"
     ]
    }
   ],
   "source": [
    "%%bash\n",
    "echo 234324abc09870lkd324324 | gsed 's/[a-z]\\+/(&)/g'"
   ]
  },
  {
   "cell_type": "code",
   "execution_count": null,
   "id": "7f4945fb-de19-46c1-9b2c-c51f76305825",
   "metadata": {},
   "outputs": [],
   "source": []
  }
 ],
 "metadata": {
  "kernelspec": {
   "display_name": "Python 3 (ipykernel)",
   "language": "python",
   "name": "python3"
  },
  "language_info": {
   "codemirror_mode": {
    "name": "ipython",
    "version": 3
   },
   "file_extension": ".py",
   "mimetype": "text/x-python",
   "name": "python",
   "nbconvert_exporter": "python",
   "pygments_lexer": "ipython3",
   "version": "3.12.3"
  }
 },
 "nbformat": 4,
 "nbformat_minor": 5
}
